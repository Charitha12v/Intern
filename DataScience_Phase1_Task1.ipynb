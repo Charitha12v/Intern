{
 "cells": [
  {
   "cell_type": "code",
   "execution_count": 4,
   "id": "ce012cc7",
   "metadata": {},
   "outputs": [
    {
     "name": "stdout",
     "output_type": "stream",
     "text": [
      "Your CSV dataset has been created successfully.\n"
     ]
    }
   ],
   "source": [
    "import pandas as pd\n",
    "import requests\n",
    "url = 'https://www.binance.com/api/v3/ticker/24hr'\n",
    "response = requests.get(url)\n",
    "\n",
    "if response.status_code == 200:\n",
    "    data = response.json()\n",
    "    df = pd.DataFrame(data)\n",
    "    df.to_csv('Binance.csv', index=False)\n",
    "    print(\"Your CSV dataset has been created successfully.\")\n",
    "else:\n",
    "    print(\"Unable to create CSV file. Check your url\")"
   ]
  },
  {
   "cell_type": "code",
   "execution_count": null,
   "id": "ffc7785c",
   "metadata": {},
   "outputs": [],
   "source": []
  }
 ],
 "metadata": {
  "kernelspec": {
   "display_name": "Python 3 (ipykernel)",
   "language": "python",
   "name": "python3"
  },
  "language_info": {
   "codemirror_mode": {
    "name": "ipython",
    "version": 3
   },
   "file_extension": ".py",
   "mimetype": "text/x-python",
   "name": "python",
   "nbconvert_exporter": "python",
   "pygments_lexer": "ipython3",
   "version": "3.9.13"
  }
 },
 "nbformat": 4,
 "nbformat_minor": 5
}
